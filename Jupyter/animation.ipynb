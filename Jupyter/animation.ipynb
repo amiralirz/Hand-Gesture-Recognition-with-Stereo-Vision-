{
 "cells": [
  {
   "cell_type": "code",
   "execution_count": 1,
   "metadata": {},
   "outputs": [],
   "source": [
    "import matplotlib.pyplot as plt\n",
    "from matplotlib.animation import FuncAnimation"
   ]
  },
  {
   "cell_type": "code",
   "execution_count": 2,
   "metadata": {},
   "outputs": [
    {
     "data": {
      "text/plain": [
       "(-10.0, 20.0)"
      ]
     },
     "execution_count": 2,
     "metadata": {},
     "output_type": "execute_result"
    },
    {
     "data": {
      "image/png": "[encoded data removed]",
      "text/plain": [
       "<Figure size 432x288 with 1 Axes>"
      ]
     },
     "metadata": {
      "needs_background": "light"
     },
     "output_type": "display_data"
    }
   ],
   "source": [
    "fig, ax = plt.subplots()\n",
    "point, = ax.plot([0], [0], color=\"red\")\n",
    "\n",
    "ax.set_xlim(0, 40)\n",
    "ax.set_ylim(-10, 20)"
   ]
  },
  {
   "cell_type": "code",
   "execution_count": null,
   "metadata": {},
   "outputs": [],
   "source": [
    "def update(frame):\n",
    "    found, pos3d = stereo_hand_instance.get_hand()\n",
    "    if not found:\n",
    "        return (0, 0)\n",
    "    # point.set_data([x], [y])\n",
    "    x = [e[0] for e in pos3d]\n",
    "    y = [e[1] for e in pos3d]\n",
    "    z = [e[2] for e in pos3d]\n",
    "    point.set_data(x, y)\n",
    "    return point,\n",
    "    "
   ]
  },
  {
   "cell_type": "code",
   "execution_count": null,
   "metadata": {},
   "outputs": [],
   "source": [
    "ani = FuncAnimation(\n",
    "    fig,\n",
    "    update,\n",
    "    interval=100,  # Update every 100 milliseconds\n",
    ")"
   ]
  }
 ],
 "metadata": {
  "kernelspec": {
   "display_name": "Python 3",
   "language": "python",
   "name": "python3"
  },
  "language_info": {
   "codemirror_mode": {
    "name": "ipython",
    "version": 3
   },
   "file_extension": ".py",
   "mimetype": "text/x-python",
   "name": "python",
   "nbconvert_exporter": "python",
   "pygments_lexer": "ipython3",
   "version": "3.10.5"
  }
 },
 "nbformat": 4,
 "nbformat_minor": 2
}
